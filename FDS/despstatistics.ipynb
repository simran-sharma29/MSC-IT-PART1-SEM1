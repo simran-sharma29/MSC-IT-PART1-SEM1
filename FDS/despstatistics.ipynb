{
  "nbformat": 4,
  "nbformat_minor": 0,
  "metadata": {
    "colab": {
      "name": "despstatistics.ipynb",
      "provenance": [],
      "collapsed_sections": [],
      "mount_file_id": "1g-6qZfRJGnHIxZ8r9tRf4brCSDnBSxxa",
      "authorship_tag": "ABX9TyNCWkzE6IUsf1nG//eL9ntD",
      "include_colab_link": true
    },
    "kernelspec": {
      "name": "python3",
      "display_name": "Python 3"
    }
  },
  "cells": [
    {
      "cell_type": "markdown",
      "metadata": {
        "id": "view-in-github",
        "colab_type": "text"
      },
      "source": [
        "<a href=\"https://colab.research.google.com/github/simran-sharma29/MSC-IT-PART1-SEM1/blob/main/FDS/despstatistics.ipynb\" target=\"_parent\"><img src=\"https://colab.research.google.com/assets/colab-badge.svg\" alt=\"Open In Colab\"/></a>"
      ]
    },
    {
      "cell_type": "markdown",
      "metadata": {
        "id": "4-py6pRDEHVT"
      },
      "source": [
        "##**Measures of Central Tendency**\r\n",
        "An essential statistical concept is the “measure of central tendency“. This measure is an important way to summarize the dataset with one representative value. This measure provides a rough picture of where data points are centered. The commonly used measures of central tendency are:\r\n",
        "\r\n",
        "**Mean**\r\n",
        "**Median**\r\n",
        "**Mode** "
      ]
    },
    {
      "cell_type": "code",
      "metadata": {
        "id": "2xpkb7zHDdQV"
      },
      "source": [
        "import math\r\n",
        "import statistics \r\n",
        "import numpy as np\r\n",
        "import scipy.stats\r\n",
        "import pandas as pd"
      ],
      "execution_count": 27,
      "outputs": []
    },
    {
      "cell_type": "markdown",
      "metadata": {
        "id": "MsBqPMsXEgPE"
      },
      "source": [
        "###**Mean**\r\n",
        "“Average” value is termed as the mean of the dataset. It is very easy to calculate the mean. \r\n",
        "\r\n",
        "Steps to calculate Mean:\r\n",
        "\r\n",
        "Step 1. Count the number of data values. Let it be n.\r\n",
        "Step 2. Add all the data values. Let the sum be s.\r\n",
        "Step 3. Mean = Sum of all data values (s)/Total number of data values(n)"
      ]
    },
    {
      "cell_type": "code",
      "metadata": {
        "colab": {
          "base_uri": "https://localhost:8080/"
        },
        "id": "-_xXfRr2EA_p",
        "outputId": "8f91f4c7-e5f6-477e-8382-6149db4bf7ff"
      },
      "source": [
        "x=[8.0,1,2.5,4,28.0]\r\n",
        "m=sum(x)/len(x)\r\n",
        "print(m)"
      ],
      "execution_count": 2,
      "outputs": [
        {
          "output_type": "stream",
          "text": [
            "8.7\n"
          ],
          "name": "stdout"
        }
      ]
    },
    {
      "cell_type": "markdown",
      "metadata": {
        "id": "DHvzz1oeFDKL"
      },
      "source": [
        "**If nan is present in data**"
      ]
    },
    {
      "cell_type": "code",
      "metadata": {
        "colab": {
          "base_uri": "https://localhost:8080/"
        },
        "id": "RW4wn5KNFIn9",
        "outputId": "27e442b9-e92a-42e3-9374-0890deab44ec"
      },
      "source": [
        "xwith_nan=[8.0,1,2.5,4,28.0,math.nan]\r\n",
        "print(xwith_nan)\r\n",
        "m=statistics.mean(xwith_nan)\r\n",
        "print(m)"
      ],
      "execution_count": 3,
      "outputs": [
        {
          "output_type": "stream",
          "text": [
            "[8.0, 1, 2.5, 4, 28.0, nan]\n",
            "nan\n"
          ],
          "name": "stdout"
        }
      ]
    },
    {
      "cell_type": "code",
      "metadata": {
        "colab": {
          "base_uri": "https://localhost:8080/"
        },
        "id": "4jjhAYWDFbyJ",
        "outputId": "b5d6cd2b-1d37-4dc3-c29a-782a47db9431"
      },
      "source": [
        "np.mean(xwith_nan)"
      ],
      "execution_count": 4,
      "outputs": [
        {
          "output_type": "execute_result",
          "data": {
            "text/plain": [
              "nan"
            ]
          },
          "metadata": {
            "tags": []
          },
          "execution_count": 4
        }
      ]
    },
    {
      "cell_type": "markdown",
      "metadata": {
        "id": "Zn3tcvvTHr0i"
      },
      "source": [
        "###**Median**\r\n",
        "The middle value of the sorted dataset is called the median.  Consider a dataset comprising ‘n’ elements.\r\n",
        "\r\n",
        "\r\n",
        "\r\n",
        "Steps  to calculate median:\r\n",
        "\r\n",
        "Step 1. The dataset is arranged in either increasing or decreasing order.\r\n",
        "Step 2. If the data set has an odd number of data values (n=odd), then the middlemost value of the sorted dataset is computed as the median. In other words, the data at (n + 1)/2 place is the median of the dataset.\r\n",
        "Step 3. If the dataset has an even number of data values (n = even), the average of two middle values is computed as the median. i.e. mean of (n/2) and {(n/2) + 1}th is the median of the dataset."
      ]
    },
    {
      "cell_type": "markdown",
      "metadata": {
        "id": "eLpSyNPgIQ8-"
      },
      "source": [
        "###**Mode**\r\n",
        "The most frequently occurring value in the dataset is called mode. \r\n",
        "\r\n",
        "Steps to calculate mode:\r\n",
        "\r\n",
        "Step 1. Use tally marks to identify how many times each data value occurs in the dataset.\r\n",
        "Step 2. The data value with maximum tally is the mode of the dataset."
      ]
    },
    {
      "cell_type": "markdown",
      "metadata": {
        "id": "sYp3ByJcGIss"
      },
      "source": [
        "###**example 1:** "
      ]
    },
    {
      "cell_type": "code",
      "metadata": {
        "colab": {
          "base_uri": "https://localhost:8080/"
        },
        "id": "zxEUoGl7GKMV",
        "outputId": "0e1ca030-a12d-46ff-c2b5-94fb5e2ca0c4"
      },
      "source": [
        "from google.colab import drive\r\n",
        "drive.mount(\"/content/drive\")"
      ],
      "execution_count": 7,
      "outputs": [
        {
          "output_type": "stream",
          "text": [
            "Mounted at /content/drive\n"
          ],
          "name": "stdout"
        }
      ]
    },
    {
      "cell_type": "code",
      "metadata": {
        "colab": {
          "base_uri": "https://localhost:8080/",
          "height": 195
        },
        "id": "jCuoJTL4GjJk",
        "outputId": "ac75210b-82c7-4d80-b056-6ecfb18cc28e"
      },
      "source": [
        "state=pd.read_csv(\"/content/drive/MyDrive/Dataset/state.csv\")\r\n",
        "state.head()"
      ],
      "execution_count": 9,
      "outputs": [
        {
          "output_type": "execute_result",
          "data": {
            "text/html": [
              "<div>\n",
              "<style scoped>\n",
              "    .dataframe tbody tr th:only-of-type {\n",
              "        vertical-align: middle;\n",
              "    }\n",
              "\n",
              "    .dataframe tbody tr th {\n",
              "        vertical-align: top;\n",
              "    }\n",
              "\n",
              "    .dataframe thead th {\n",
              "        text-align: right;\n",
              "    }\n",
              "</style>\n",
              "<table border=\"1\" class=\"dataframe\">\n",
              "  <thead>\n",
              "    <tr style=\"text-align: right;\">\n",
              "      <th></th>\n",
              "      <th>State</th>\n",
              "      <th>Population</th>\n",
              "      <th>Murder.Rate</th>\n",
              "      <th>Abbreviation</th>\n",
              "    </tr>\n",
              "  </thead>\n",
              "  <tbody>\n",
              "    <tr>\n",
              "      <th>0</th>\n",
              "      <td>Alabama</td>\n",
              "      <td>4779736</td>\n",
              "      <td>5.7</td>\n",
              "      <td>AL</td>\n",
              "    </tr>\n",
              "    <tr>\n",
              "      <th>1</th>\n",
              "      <td>Alaska</td>\n",
              "      <td>710231</td>\n",
              "      <td>5.6</td>\n",
              "      <td>AK</td>\n",
              "    </tr>\n",
              "    <tr>\n",
              "      <th>2</th>\n",
              "      <td>Arizona</td>\n",
              "      <td>6392017</td>\n",
              "      <td>4.7</td>\n",
              "      <td>AZ</td>\n",
              "    </tr>\n",
              "    <tr>\n",
              "      <th>3</th>\n",
              "      <td>Arkansas</td>\n",
              "      <td>2915918</td>\n",
              "      <td>5.6</td>\n",
              "      <td>AR</td>\n",
              "    </tr>\n",
              "    <tr>\n",
              "      <th>4</th>\n",
              "      <td>California</td>\n",
              "      <td>37253956</td>\n",
              "      <td>4.4</td>\n",
              "      <td>CA</td>\n",
              "    </tr>\n",
              "  </tbody>\n",
              "</table>\n",
              "</div>"
            ],
            "text/plain": [
              "        State  Population  Murder.Rate Abbreviation\n",
              "0     Alabama     4779736          5.7           AL\n",
              "1      Alaska      710231          5.6           AK\n",
              "2     Arizona     6392017          4.7           AZ\n",
              "3    Arkansas     2915918          5.6           AR\n",
              "4  California    37253956          4.4           CA"
            ]
          },
          "metadata": {
            "tags": []
          },
          "execution_count": 9
        }
      ]
    },
    {
      "cell_type": "code",
      "metadata": {
        "colab": {
          "base_uri": "https://localhost:8080/"
        },
        "id": "fVbfrK9CHdka",
        "outputId": "7ae0384b-48b7-4913-f59f-f2ddc21ee8f6"
      },
      "source": [
        "np.mean(state['Population'])"
      ],
      "execution_count": 10,
      "outputs": [
        {
          "output_type": "execute_result",
          "data": {
            "text/plain": [
              "6162876.3"
            ]
          },
          "metadata": {
            "tags": []
          },
          "execution_count": 10
        }
      ]
    },
    {
      "cell_type": "code",
      "metadata": {
        "colab": {
          "base_uri": "https://localhost:8080/"
        },
        "id": "cD6Ofac2Hj_4",
        "outputId": "42fbb5b5-6370-4c72-85f5-355f0823fccf"
      },
      "source": [
        "statistics.mean(state['Population'])\r\n"
      ],
      "execution_count": 16,
      "outputs": [
        {
          "output_type": "execute_result",
          "data": {
            "text/plain": [
              "6162876.3"
            ]
          },
          "metadata": {
            "tags": []
          },
          "execution_count": 16
        }
      ]
    },
    {
      "cell_type": "markdown",
      "metadata": {
        "id": "yki5XSkzIVHF"
      },
      "source": [
        "**weighted mean**"
      ]
    },
    {
      "cell_type": "code",
      "metadata": {
        "colab": {
          "base_uri": "https://localhost:8080/"
        },
        "id": "Jbi4A6zpJKuA",
        "outputId": "705720c3-5387-4af5-bb0c-d53774719a6e"
      },
      "source": [
        "pip install weightedstats"
      ],
      "execution_count": 20,
      "outputs": [
        {
          "output_type": "stream",
          "text": [
            "Collecting weightedstats\n",
            "  Downloading https://files.pythonhosted.org/packages/8d/73/24ecd3d2230edb304d8c2febe61711ae75c11fc792acc8fd3b056b4eb6cc/weightedstats-0.4.1-py3-none-any.whl\n",
            "Installing collected packages: weightedstats\n",
            "Successfully installed weightedstats-0.4.1\n"
          ],
          "name": "stdout"
        }
      ]
    },
    {
      "cell_type": "code",
      "metadata": {
        "colab": {
          "base_uri": "https://localhost:8080/"
        },
        "id": "Ui5QoWiOIUw3",
        "outputId": "8c0cc7ad-ea44-49e9-865d-6fc3ea3b5b79"
      },
      "source": [
        "import weightedstats as ws\r\n",
        "weighted_mean=ws.weighted_mean(state['Population'],state['Murder.Rate'])\r\n",
        "print(weighted_mean)"
      ],
      "execution_count": 30,
      "outputs": [
        {
          "output_type": "stream",
          "text": [
            "6738594.411214952\n"
          ],
          "name": "stdout"
        }
      ]
    },
    {
      "cell_type": "code",
      "metadata": {
        "id": "768dj0AzJ26m"
      },
      "source": [
        "import weightedstats as ws"
      ],
      "execution_count": 23,
      "outputs": []
    },
    {
      "cell_type": "markdown",
      "metadata": {
        "id": "JZfTdyXXKZCM"
      },
      "source": [
        "**trimmed mean**"
      ]
    },
    {
      "cell_type": "code",
      "metadata": {
        "colab": {
          "base_uri": "https://localhost:8080/"
        },
        "id": "Omc4wTLcJ7Pv",
        "outputId": "0b2796b9-54cc-4b98-9170-29a1a99638f6"
      },
      "source": [
        "trimmed_mmean=scipy.stats.trim_mean(state['Population'],0.1)\r\n",
        "print(trimmed_mmean)"
      ],
      "execution_count": 28,
      "outputs": [
        {
          "output_type": "stream",
          "text": [
            "4783697.125\n"
          ],
          "name": "stdout"
        }
      ]
    },
    {
      "cell_type": "markdown",
      "metadata": {
        "id": "GYNVpeCjKvxM"
      },
      "source": [
        "**median**"
      ]
    },
    {
      "cell_type": "code",
      "metadata": {
        "colab": {
          "base_uri": "https://localhost:8080/"
        },
        "id": "365e7PwkKgNQ",
        "outputId": "ba8e7be1-6657-477e-f472-185571bc1fa6"
      },
      "source": [
        "med=np.median(state['Population'])\r\n",
        "print(med)\r\n",
        "print(statistics.median(state['Population']))"
      ],
      "execution_count": 29,
      "outputs": [
        {
          "output_type": "stream",
          "text": [
            "4436369.5\n",
            "4436369.5\n"
          ],
          "name": "stdout"
        }
      ]
    },
    {
      "cell_type": "markdown",
      "metadata": {
        "id": "jyS6p8f_K0SQ"
      },
      "source": [
        "**weighted median**"
      ]
    },
    {
      "cell_type": "code",
      "metadata": {
        "colab": {
          "base_uri": "https://localhost:8080/"
        },
        "id": "OFGizM3fK3zm",
        "outputId": "dfb303bb-ff58-47cb-9e98-2c116ba21dcb"
      },
      "source": [
        "weights=ws.weighted_median(state['Population'],state['Murder.Rate'])\r\n",
        "print(weights)"
      ],
      "execution_count": 31,
      "outputs": [
        {
          "output_type": "stream",
          "text": [
            "4625364\n"
          ],
          "name": "stdout"
        }
      ]
    },
    {
      "cell_type": "markdown",
      "metadata": {
        "id": "hgxb_qVXLKH1"
      },
      "source": [
        "**mode**"
      ]
    },
    {
      "cell_type": "code",
      "metadata": {
        "colab": {
          "base_uri": "https://localhost:8080/"
        },
        "id": "s3aWGiAeLL6s",
        "outputId": "ad02c158-5f7e-4d25-e2eb-338b9e05d003"
      },
      "source": [
        "x=[4,4,5,6,2,10,8,25,60,56,60,4]\r\n",
        "statistics.mode(x)"
      ],
      "execution_count": 38,
      "outputs": [
        {
          "output_type": "execute_result",
          "data": {
            "text/plain": [
              "4"
            ]
          },
          "metadata": {
            "tags": []
          },
          "execution_count": 38
        }
      ]
    },
    {
      "cell_type": "markdown",
      "metadata": {
        "id": "WmCOcZfnNFIN"
      },
      "source": [
        "###**Example 2**"
      ]
    },
    {
      "cell_type": "code",
      "metadata": {
        "colab": {
          "base_uri": "https://localhost:8080/",
          "height": 195
        },
        "id": "09hjmapdNJny",
        "outputId": "ac3490a5-893c-43e0-d22b-0f2b3113d789"
      },
      "source": [
        "tit=pd.read_csv(\"/content/drive/MyDrive/Dataset/Titanic.csv\")\r\n",
        "tit.head()"
      ],
      "execution_count": 40,
      "outputs": [
        {
          "output_type": "execute_result",
          "data": {
            "text/html": [
              "<div>\n",
              "<style scoped>\n",
              "    .dataframe tbody tr th:only-of-type {\n",
              "        vertical-align: middle;\n",
              "    }\n",
              "\n",
              "    .dataframe tbody tr th {\n",
              "        vertical-align: top;\n",
              "    }\n",
              "\n",
              "    .dataframe thead th {\n",
              "        text-align: right;\n",
              "    }\n",
              "</style>\n",
              "<table border=\"1\" class=\"dataframe\">\n",
              "  <thead>\n",
              "    <tr style=\"text-align: right;\">\n",
              "      <th></th>\n",
              "      <th>PassengerId</th>\n",
              "      <th>Survived</th>\n",
              "      <th>Pclass</th>\n",
              "      <th>Name</th>\n",
              "      <th>Sex</th>\n",
              "      <th>Age</th>\n",
              "      <th>SibSp</th>\n",
              "      <th>Parch</th>\n",
              "      <th>Ticket</th>\n",
              "      <th>Fare</th>\n",
              "      <th>Cabin</th>\n",
              "      <th>Embarked</th>\n",
              "    </tr>\n",
              "  </thead>\n",
              "  <tbody>\n",
              "    <tr>\n",
              "      <th>0</th>\n",
              "      <td>1</td>\n",
              "      <td>0</td>\n",
              "      <td>3</td>\n",
              "      <td>Braund, Mr. Owen Harris</td>\n",
              "      <td>male</td>\n",
              "      <td>22.0</td>\n",
              "      <td>1</td>\n",
              "      <td>0</td>\n",
              "      <td>A/5 21171</td>\n",
              "      <td>7.2500</td>\n",
              "      <td>NaN</td>\n",
              "      <td>S</td>\n",
              "    </tr>\n",
              "    <tr>\n",
              "      <th>1</th>\n",
              "      <td>2</td>\n",
              "      <td>1</td>\n",
              "      <td>1</td>\n",
              "      <td>Cumings, Mrs. John Bradley (Florence Briggs Th...</td>\n",
              "      <td>female</td>\n",
              "      <td>38.0</td>\n",
              "      <td>1</td>\n",
              "      <td>0</td>\n",
              "      <td>PC 17599</td>\n",
              "      <td>71.2833</td>\n",
              "      <td>C85</td>\n",
              "      <td>C</td>\n",
              "    </tr>\n",
              "    <tr>\n",
              "      <th>2</th>\n",
              "      <td>3</td>\n",
              "      <td>1</td>\n",
              "      <td>3</td>\n",
              "      <td>Heikkinen, Miss. Laina</td>\n",
              "      <td>female</td>\n",
              "      <td>26.0</td>\n",
              "      <td>0</td>\n",
              "      <td>0</td>\n",
              "      <td>STON/O2. 3101282</td>\n",
              "      <td>7.9250</td>\n",
              "      <td>NaN</td>\n",
              "      <td>S</td>\n",
              "    </tr>\n",
              "    <tr>\n",
              "      <th>3</th>\n",
              "      <td>4</td>\n",
              "      <td>1</td>\n",
              "      <td>1</td>\n",
              "      <td>Futrelle, Mrs. Jacques Heath (Lily May Peel)</td>\n",
              "      <td>female</td>\n",
              "      <td>35.0</td>\n",
              "      <td>1</td>\n",
              "      <td>0</td>\n",
              "      <td>113803</td>\n",
              "      <td>53.1000</td>\n",
              "      <td>C123</td>\n",
              "      <td>S</td>\n",
              "    </tr>\n",
              "    <tr>\n",
              "      <th>4</th>\n",
              "      <td>5</td>\n",
              "      <td>0</td>\n",
              "      <td>3</td>\n",
              "      <td>Allen, Mr. William Henry</td>\n",
              "      <td>male</td>\n",
              "      <td>35.0</td>\n",
              "      <td>0</td>\n",
              "      <td>0</td>\n",
              "      <td>373450</td>\n",
              "      <td>8.0500</td>\n",
              "      <td>NaN</td>\n",
              "      <td>S</td>\n",
              "    </tr>\n",
              "  </tbody>\n",
              "</table>\n",
              "</div>"
            ],
            "text/plain": [
              "   PassengerId  Survived  Pclass  ...     Fare Cabin  Embarked\n",
              "0            1         0       3  ...   7.2500   NaN         S\n",
              "1            2         1       1  ...  71.2833   C85         C\n",
              "2            3         1       3  ...   7.9250   NaN         S\n",
              "3            4         1       1  ...  53.1000  C123         S\n",
              "4            5         0       3  ...   8.0500   NaN         S\n",
              "\n",
              "[5 rows x 12 columns]"
            ]
          },
          "metadata": {
            "tags": []
          },
          "execution_count": 40
        }
      ]
    },
    {
      "cell_type": "code",
      "metadata": {
        "colab": {
          "base_uri": "https://localhost:8080/"
        },
        "id": "SjkD1IKfNVXA",
        "outputId": "477bef24-5608-48de-ff7b-b4f416e3753d"
      },
      "source": [
        "print(statistics.mean(tit['Fare']))"
      ],
      "execution_count": 44,
      "outputs": [
        {
          "output_type": "stream",
          "text": [
            "32.204207968574636\n"
          ],
          "name": "stdout"
        }
      ]
    },
    {
      "cell_type": "code",
      "metadata": {
        "colab": {
          "base_uri": "https://localhost:8080/"
        },
        "id": "8YsrRD9SNkEO",
        "outputId": "86a9d63a-3364-43ba-a1c2-fbe235065cae"
      },
      "source": [
        "print(np.mean(tit['Fare']))"
      ],
      "execution_count": 45,
      "outputs": [
        {
          "output_type": "stream",
          "text": [
            "32.2042079685746\n"
          ],
          "name": "stdout"
        }
      ]
    },
    {
      "cell_type": "code",
      "metadata": {
        "colab": {
          "base_uri": "https://localhost:8080/"
        },
        "id": "zm0P-XTCNn-H",
        "outputId": "fe5263a6-55a7-430f-d658-e65bcc189f55"
      },
      "source": [
        "ws.weighted_mean(tit['Fare'])"
      ],
      "execution_count": 46,
      "outputs": [
        {
          "output_type": "execute_result",
          "data": {
            "text/plain": [
              "32.2042079685746"
            ]
          },
          "metadata": {
            "tags": []
          },
          "execution_count": 46
        }
      ]
    },
    {
      "cell_type": "code",
      "metadata": {
        "colab": {
          "base_uri": "https://localhost:8080/"
        },
        "id": "nObmjCypNsae",
        "outputId": "8580a82c-6462-45ab-ca53-2fe3bc0c7416"
      },
      "source": [
        "scipy.stats.trim_mean(tit['Fare'],0.2)"
      ],
      "execution_count": 48,
      "outputs": [
        {
          "output_type": "execute_result",
          "data": {
            "text/plain": [
              "17.45484953271028"
            ]
          },
          "metadata": {
            "tags": []
          },
          "execution_count": 48
        }
      ]
    },
    {
      "cell_type": "code",
      "metadata": {
        "colab": {
          "base_uri": "https://localhost:8080/"
        },
        "id": "T3sMiLs2N1TS",
        "outputId": "d2fc0b47-822f-4443-946e-cb52f6d19bc9"
      },
      "source": [
        "print(statistics.median(tit['Fare']))\r\n",
        "print(np.median(tit['Fare']))"
      ],
      "execution_count": 50,
      "outputs": [
        {
          "output_type": "stream",
          "text": [
            "14.4542\n",
            "14.4542\n"
          ],
          "name": "stdout"
        }
      ]
    },
    {
      "cell_type": "code",
      "metadata": {
        "colab": {
          "base_uri": "https://localhost:8080/"
        },
        "id": "S8LpwTspOdmH",
        "outputId": "c04d1a65-3c92-42b3-8301-c1f63d1bef0d"
      },
      "source": [
        "statistics.mode(tit['Age'])"
      ],
      "execution_count": 55,
      "outputs": [
        {
          "output_type": "execute_result",
          "data": {
            "text/plain": [
              "24.0"
            ]
          },
          "metadata": {
            "tags": []
          },
          "execution_count": 55
        }
      ]
    }
  ]
}