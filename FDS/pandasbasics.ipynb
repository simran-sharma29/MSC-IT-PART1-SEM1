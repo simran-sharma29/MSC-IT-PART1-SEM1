{
  "nbformat": 4,
  "nbformat_minor": 0,
  "metadata": {
    "colab": {
      "name": "pandasbasics.ipynb",
      "provenance": [],
      "collapsed_sections": [],
      "authorship_tag": "ABX9TyOcg0+TRohe6CLW4yCYjvJN",
      "include_colab_link": true
    },
    "kernelspec": {
      "name": "python3",
      "display_name": "Python 3"
    }
  },
  "cells": [
    {
      "cell_type": "markdown",
      "metadata": {
        "id": "view-in-github",
        "colab_type": "text"
      },
      "source": [
        "<a href=\"https://colab.research.google.com/github/simran-sharma29/MSC-IT-PART1-SEM1/blob/main/FDS/pandasbasics.ipynb\" target=\"_parent\"><img src=\"https://colab.research.google.com/assets/colab-badge.svg\" alt=\"Open In Colab\"/></a>"
      ]
    },
    {
      "cell_type": "markdown",
      "metadata": {
        "id": "10XtjoWpLJhh"
      },
      "source": [
        "Pandas is an open-source, BSD-licensed Python library providing high-performance, easy-to-use data structures and data analysis tools for the Python programming language. Python with Pandas is used in a wide range of fields including academic and commercial domains including finance, economics, Statistics, analytics, etc. In this tutorial, we will learn the various features of Python Pandas and how to use them in practice."
      ]
    },
    {
      "cell_type": "markdown",
      "metadata": {
        "id": "13FE95E7LUoE"
      },
      "source": [
        "##**pandas.Series**\r\n",
        "Series is a one-dimensional labeled array capable of holding data of any type (integer, string, float, python objects, etc.). The axis labels are collectively called index.\r\n",
        "\r\n"
      ]
    },
    {
      "cell_type": "code",
      "metadata": {
        "id": "2y6Ft6ZBF7-m",
        "colab": {
          "base_uri": "https://localhost:8080/"
        },
        "outputId": "d5cbdb5c-8bd2-4d9b-a95d-02767df4b5ba"
      },
      "source": [
        "#import the pandas library and aliasing as pd\n",
        "import pandas as pd\n",
        "import numpy as np\n",
        "data = np.array(['a','b','c','d'])\n",
        "s = pd.Series(data)\n",
        "print (s)"
      ],
      "execution_count": null,
      "outputs": [
        {
          "output_type": "stream",
          "text": [
            "0    a\n",
            "1    b\n",
            "2    c\n",
            "3    d\n",
            "dtype: object\n"
          ],
          "name": "stdout"
        }
      ]
    },
    {
      "cell_type": "code",
      "metadata": {
        "colab": {
          "base_uri": "https://localhost:8080/"
        },
        "id": "byD9NmrgLphV",
        "outputId": "ea518cf3-a19d-4645-a2d8-9da893a5d9c9"
      },
      "source": [
        "data = {'a' : 0., 'b' : 1., 'c' : 2.}\r\n",
        "s = pd.Series(data,index=['b','c','d','a'])\r\n",
        "print (s)"
      ],
      "execution_count": null,
      "outputs": [
        {
          "output_type": "stream",
          "text": [
            "b    1.0\n",
            "c    2.0\n",
            "d    NaN\n",
            "a    0.0\n",
            "dtype: float64\n"
          ],
          "name": "stdout"
        }
      ]
    },
    {
      "cell_type": "markdown",
      "metadata": {
        "id": "kxExgRvke41y"
      },
      "source": [
        "##**Data frame**\r\n",
        "A Data frame is a two-dimensional data structure, i.e., data is aligned in a tabular fashion in rows and columns."
      ]
    },
    {
      "cell_type": "code",
      "metadata": {
        "colab": {
          "base_uri": "https://localhost:8080/"
        },
        "id": "Lb9wKi94fJsj",
        "outputId": "86e98eef-1d08-4d0b-9d3b-5e8b6ff4dd48"
      },
      "source": [
        "import pandas as pd\r\n",
        "data = [['Alex',10],['Bob',12],['Clarke',13]]\r\n",
        "df = pd.DataFrame(data,columns=['Name','Age'])\r\n",
        "print (df)"
      ],
      "execution_count": 5,
      "outputs": [
        {
          "output_type": "stream",
          "text": [
            "     Name  Age\n",
            "0    Alex   10\n",
            "1     Bob   12\n",
            "2  Clarke   13\n"
          ],
          "name": "stdout"
        }
      ]
    },
    {
      "cell_type": "code",
      "metadata": {
        "colab": {
          "base_uri": "https://localhost:8080/"
        },
        "id": "hLqQ9nWMfUVh",
        "outputId": "f7565bfb-10bd-4ba5-c585-746be6cefcb5"
      },
      "source": [
        "import pandas as pd\r\n",
        "data = {'Name':['Tom', 'Jack', 'Steve', 'Ricky'],'Age':[28,34,29,42]}\r\n",
        "df = pd.DataFrame(data, index=['rank1','rank2','rank3','rank4'])\r\n",
        "print (df)"
      ],
      "execution_count": 6,
      "outputs": [
        {
          "output_type": "stream",
          "text": [
            "        Name  Age\n",
            "rank1    Tom   28\n",
            "rank2   Jack   34\n",
            "rank3  Steve   29\n",
            "rank4  Ricky   42\n"
          ],
          "name": "stdout"
        }
      ]
    },
    {
      "cell_type": "markdown",
      "metadata": {
        "id": "7vaInAtQfoaF"
      },
      "source": [
        "##**Create a DataFrame from List of Dicts**\r\n",
        "List of Dictionaries can be passed as input data to create a DataFrame. The dictionary keys are by default taken as column names."
      ]
    },
    {
      "cell_type": "code",
      "metadata": {
        "colab": {
          "base_uri": "https://localhost:8080/"
        },
        "id": "6g8jLxyJfrPM",
        "outputId": "4ce603d4-4c13-411d-ab53-5dd147b05b77"
      },
      "source": [
        "import pandas as pd\r\n",
        "data = [{'a': 1, 'b': 2},{'a': 5, 'b': 10, 'c': 20}]\r\n",
        "df = pd.DataFrame(data)\r\n",
        "print (df)"
      ],
      "execution_count": 7,
      "outputs": [
        {
          "output_type": "stream",
          "text": [
            "   a   b     c\n",
            "0  1   2   NaN\n",
            "1  5  10  20.0\n"
          ],
          "name": "stdout"
        }
      ]
    },
    {
      "cell_type": "markdown",
      "metadata": {
        "id": "GkxKpg8_f40n"
      },
      "source": [
        "##**Create a DataFrame from Dict of Series**\r\n",
        "Dictionary of Series can be passed to form a DataFrame. The resultant index is the union of all the series indexes passed."
      ]
    },
    {
      "cell_type": "code",
      "metadata": {
        "colab": {
          "base_uri": "https://localhost:8080/"
        },
        "id": "muilSKLGf8Dj",
        "outputId": "08929adc-5272-488d-cdac-404b1bd8b734"
      },
      "source": [
        "import pandas as pd\r\n",
        "\r\n",
        "d = {'one' : pd.Series([1, 2, 3], index=['a', 'b', 'c']),\r\n",
        "   'two' : pd.Series([1, 2, 3, 4], index=['a', 'b', 'c', 'd'])}\r\n",
        "\r\n",
        "df = pd.DataFrame(d)\r\n",
        "print (df)"
      ],
      "execution_count": 8,
      "outputs": [
        {
          "output_type": "stream",
          "text": [
            "   one  two\n",
            "a  1.0    1\n",
            "b  2.0    2\n",
            "c  3.0    3\n",
            "d  NaN    4\n"
          ],
          "name": "stdout"
        }
      ]
    },
    {
      "cell_type": "markdown",
      "metadata": {
        "id": "cA_kwMEZgWK9"
      },
      "source": [
        "##**Column Selection**"
      ]
    },
    {
      "cell_type": "code",
      "metadata": {
        "colab": {
          "base_uri": "https://localhost:8080/"
        },
        "id": "5GyHpCDugYTt",
        "outputId": "3e2b8403-289d-4406-af49-efcb6fd9323a"
      },
      "source": [
        "import pandas as pd\r\n",
        "\r\n",
        "d = {'one' : pd.Series([1, 2, 3], index=['a', 'b', 'c']),\r\n",
        "   'two' : pd.Series([1, 2, 3, 4], index=['a', 'b', 'c', 'd'])}\r\n",
        "\r\n",
        "df = pd.DataFrame(d)\r\n",
        "print (df ['one'])"
      ],
      "execution_count": 10,
      "outputs": [
        {
          "output_type": "stream",
          "text": [
            "a    1.0\n",
            "b    2.0\n",
            "c    3.0\n",
            "d    NaN\n",
            "Name: one, dtype: float64\n"
          ],
          "name": "stdout"
        }
      ]
    },
    {
      "cell_type": "markdown",
      "metadata": {
        "id": "RuOO9cV6geIX"
      },
      "source": [
        "##**Column Addition**"
      ]
    },
    {
      "cell_type": "code",
      "metadata": {
        "colab": {
          "base_uri": "https://localhost:8080/"
        },
        "id": "BAj6INUHgllM",
        "outputId": "008b4945-0dba-4cf4-cce6-45053196265e"
      },
      "source": [
        "import pandas as pd\r\n",
        "\r\n",
        "d = {'one' : pd.Series([1, 2, 3], index=['a', 'b', 'c']),\r\n",
        "   'two' : pd.Series([1, 2, 3, 4], index=['a', 'b', 'c', 'd'])}\r\n",
        "\r\n",
        "df = pd.DataFrame(d)\r\n",
        "\r\n",
        "# Adding a new column to an existing DataFrame object with column label by passing new series\r\n",
        "\r\n",
        "print (\"Adding a new column by passing as Series:\")\r\n",
        "df['three']=pd.Series([10,20,30],index=['a','b','c'])\r\n",
        "print(df)\r\n",
        "\r\n",
        "print (\"Adding a new column using the existing columns in DataFrame:\")\r\n",
        "df['four']=df['one']+df['three']\r\n",
        "\r\n",
        "print (df)"
      ],
      "execution_count": 11,
      "outputs": [
        {
          "output_type": "stream",
          "text": [
            "Adding a new column by passing as Series:\n",
            "   one  two  three\n",
            "a  1.0    1   10.0\n",
            "b  2.0    2   20.0\n",
            "c  3.0    3   30.0\n",
            "d  NaN    4    NaN\n",
            "Adding a new column using the existing columns in DataFrame:\n",
            "   one  two  three  four\n",
            "a  1.0    1   10.0  11.0\n",
            "b  2.0    2   20.0  22.0\n",
            "c  3.0    3   30.0  33.0\n",
            "d  NaN    4    NaN   NaN\n"
          ],
          "name": "stdout"
        }
      ]
    },
    {
      "cell_type": "markdown",
      "metadata": {
        "id": "Zwox9-ORgtiS"
      },
      "source": [
        "##**Selection by Label**\r\n",
        "Rows can be selected by passing row label to a loc function."
      ]
    },
    {
      "cell_type": "code",
      "metadata": {
        "colab": {
          "base_uri": "https://localhost:8080/"
        },
        "id": "5rvN_IiUgwGl",
        "outputId": "e07aba8e-b321-4241-b5d3-8a76cf9a82b6"
      },
      "source": [
        "import pandas as pd\r\n",
        "\r\n",
        "d = {'one' : pd.Series([1, 2, 3], index=['a', 'b', 'c']), \r\n",
        "   'two' : pd.Series([1, 2, 3, 4], index=['a', 'b', 'c', 'd'])}\r\n",
        "\r\n",
        "df = pd.DataFrame(d)\r\n",
        "print (df.loc['b'])"
      ],
      "execution_count": 13,
      "outputs": [
        {
          "output_type": "stream",
          "text": [
            "one    2.0\n",
            "two    2.0\n",
            "Name: b, dtype: float64\n"
          ],
          "name": "stdout"
        }
      ]
    }
  ]
}